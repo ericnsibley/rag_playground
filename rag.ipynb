{
 "cells": [
  {
   "cell_type": "code",
   "execution_count": null,
   "metadata": {},
   "outputs": [],
   "source": [
    "from openai import OpenAI\n",
    "import os \n",
    "\n",
    "openai_client = OpenAI(api_key=os.getenv('OPENAI_API_KEY'))"
   ]
  },
  {
   "cell_type": "code",
   "execution_count": null,
   "metadata": {},
   "outputs": [],
   "source": [
    "def get_completion_from_openai(max_tokens: int, chat_history: list[dict[str, str]], openai_client, model: str = \"gpt-3.5-turbo\", ):\n",
    "    bot_response = openai_client.chat.completions.create(\n",
    "        model=model,\n",
    "        messages=chat_history,\n",
    "        max_tokens=max_tokens\n",
    "    )\n",
    "    return bot_response\n",
    "\n",
    "res = get_completion_from_openai()"
   ]
  }
 ],
 "metadata": {
  "kernelspec": {
   "display_name": ".rag_venv",
   "language": "python",
   "name": "python3"
  },
  "language_info": {
   "name": "python",
   "version": "3.10.12"
  }
 },
 "nbformat": 4,
 "nbformat_minor": 2
}
